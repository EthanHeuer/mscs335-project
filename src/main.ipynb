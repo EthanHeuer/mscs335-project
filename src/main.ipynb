{
 "cells": [
  {
   "cell_type": "code",
   "execution_count": null,
   "metadata": {},
   "outputs": [],
   "source": [
    "import torch\n",
    "from midi_model import MidiModel"
   ]
  },
  {
   "cell_type": "code",
   "execution_count": null,
   "metadata": {},
   "outputs": [],
   "source": [
    "mh = MidiModel()\n",
    "mh.init_data_dir()\n",
    "mh.device = torch.device(\"cuda\" if torch.cuda.is_available() else \"cpu\")\n",
    "\n",
    "# Training Parameters\n",
    "mh.epochs = 50\n",
    "mh.batch_size = 128\n",
    "mh.learning_rate = 0.001\n",
    "\n",
    "mh.sample_range_from = 0\n",
    "mh.sample_range_to = 100\n",
    "\n",
    "# LSTM Model Parameters\n",
    "mh.input_size = 3\n",
    "mh.hidden_size = 128\n",
    "mh.output_size = 3\n",
    "\n",
    "# LSTM Training Loss Parameters\n",
    "mh.pitch_weight = 25.0\n",
    "mh.step_weight = 15.0\n",
    "mh.duration_weight = 10.0"
   ]
  },
  {
   "cell_type": "code",
   "execution_count": null,
   "metadata": {},
   "outputs": [],
   "source": [
    "mh.load_train_data()"
   ]
  },
  {
   "cell_type": "code",
   "execution_count": null,
   "metadata": {},
   "outputs": [],
   "source": [
    "mh.load_train_notes(mh.sample_range_from, mh.sample_range_to)"
   ]
  },
  {
   "cell_type": "code",
   "execution_count": null,
   "metadata": {},
   "outputs": [],
   "source": [
    "mh.create_model()"
   ]
  },
  {
   "cell_type": "code",
   "execution_count": null,
   "metadata": {},
   "outputs": [],
   "source": [
    "mh.train_model()"
   ]
  },
  {
   "cell_type": "code",
   "execution_count": null,
   "metadata": {},
   "outputs": [],
   "source": [
    "input_notes = mh.midi.get_notes(\"../data/input.mid\")\n",
    "num_predictions = 10\n",
    "seq_length = 4\n",
    "temperature = 2.0\n",
    "\n",
    "generated_notes, out_pm = mh.generate_notes(input_notes, num_predictions, seq_length, temperature)\n",
    "\n",
    "mh.midi.display_midi(\"../data/generated/output.mid\")"
   ]
  },
  {
   "cell_type": "code",
   "execution_count": null,
   "metadata": {},
   "outputs": [],
   "source": [
    "mh.midi.display_audio(out_pm)"
   ]
  }
 ],
 "metadata": {
  "kernelspec": {
   "display_name": "Python 3",
   "language": "python",
   "name": "python3"
  },
  "language_info": {
   "codemirror_mode": {
    "name": "ipython",
    "version": 3
   },
   "file_extension": ".py",
   "mimetype": "text/x-python",
   "name": "python",
   "nbconvert_exporter": "python",
   "pygments_lexer": "ipython3",
   "version": "3.10.12"
  }
 },
 "nbformat": 4,
 "nbformat_minor": 2
}
