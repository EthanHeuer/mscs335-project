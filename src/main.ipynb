{
 "cells": [
  {
   "cell_type": "code",
   "execution_count": null,
   "metadata": {},
   "outputs": [],
   "source": [
    "import torch\n",
    "import pathlib\n",
    "import zipfile\n",
    "from model_handler import ModelHandler"
   ]
  },
  {
   "cell_type": "code",
   "execution_count": null,
   "metadata": {},
   "outputs": [],
   "source": [
    "device = torch.device(\"cuda\" if torch.cuda.is_available() else \"cpu\")\n",
    "mh = ModelHandler(device)\n",
    "print(f\"Running on: {device}\")"
   ]
  },
  {
   "cell_type": "code",
   "execution_count": null,
   "metadata": {},
   "outputs": [],
   "source": [
    "\n",
    "data_path = pathlib.Path(\"../data\")\n",
    "if not data_path.exists():\n",
    "    data_path.mkdir()\n",
    "\n",
    "maestro_data = pathlib.Path(\"../data/maestro-v2.0.0\")\n",
    "if not maestro_data.exists():\n",
    "    torch.hub.download_url_to_file(\n",
    "        \"https://storage.googleapis.com/magentadata/datasets/maestro/v2.0.0/maestro-v2.0.0-midi.zip\",\n",
    "        \"../data/maestro-v2.0.0-midi.zip\",\n",
    "    )\n",
    "\n",
    "    with zipfile.ZipFile(\"../data/maestro-v2.0.0-midi.zip\", \"r\") as zip_ref:\n",
    "        zip_ref.extractall(\"../data\")\n",
    "        pathlib.Path(\"../data/maestro-v2.0.0-midi.zip\").unlink()"
   ]
  },
  {
   "cell_type": "code",
   "execution_count": null,
   "metadata": {},
   "outputs": [],
   "source": [
    "mh.midi.load_files(\"../data/maestro/**/*.mid*\")\n",
    "print(f\"Number of Samples: {len(mh.midi.files)}\")"
   ]
  },
  {
   "cell_type": "code",
   "execution_count": null,
   "metadata": {},
   "outputs": [],
   "source": [
    "train_notes = mh.get_train_notes(\"../data/notes.pt\", 0, 5)\n",
    "print(\"Number of notes parsed:\", len(train_notes))"
   ]
  },
  {
   "cell_type": "code",
   "execution_count": null,
   "metadata": {},
   "outputs": [],
   "source": [
    "epochs = 50\n",
    "batch_size = 16\n",
    "learning_rate = 0.0005\n",
    "\n",
    "data, loader, model, criterion, optimizer = mh.create_model(\n",
    "    epochs, batch_size, learning_rate\n",
    ")"
   ]
  },
  {
   "cell_type": "code",
   "execution_count": null,
   "metadata": {},
   "outputs": [],
   "source": [
    "mh.train_model()"
   ]
  },
  {
   "cell_type": "code",
   "execution_count": null,
   "metadata": {},
   "outputs": [],
   "source": [
    "raw_notes = mh.midi.get_notes(mh.midi.files[0])\n",
    "num_predictions = 120\n",
    "seq_length = 25\n",
    "temperature = 4.0\n",
    "\n",
    "generated_notes, out_pm = mh.generate_notes(\n",
    "    raw_notes, num_predictions, seq_length, temperature\n",
    ")"
   ]
  },
  {
   "cell_type": "code",
   "execution_count": null,
   "metadata": {},
   "outputs": [],
   "source": [
    "mh.midi.display_audio(out_pm)"
   ]
  },
  {
   "cell_type": "code",
   "execution_count": null,
   "metadata": {},
   "outputs": [],
   "source": [
    "mh.midi.display_midi(\"output.mid\")"
   ]
  }
 ],
 "metadata": {
  "kernelspec": {
   "display_name": "Python 3",
   "language": "python",
   "name": "python3"
  },
  "language_info": {
   "codemirror_mode": {
    "name": "ipython",
    "version": 3
   },
   "file_extension": ".py",
   "mimetype": "text/x-python",
   "name": "python",
   "nbconvert_exporter": "python",
   "pygments_lexer": "ipython3",
   "version": "3.10.12"
  }
 },
 "nbformat": 4,
 "nbformat_minor": 2
}
