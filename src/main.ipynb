{
 "cells": [
  {
   "cell_type": "code",
   "execution_count": null,
   "metadata": {},
   "outputs": [],
   "source": [
    "import torch\n",
    "from midi_model import MidiModel"
   ]
  },
  {
   "cell_type": "code",
   "execution_count": null,
   "metadata": {},
   "outputs": [],
   "source": [
    "mh = MidiModel()\n",
    "mh.init_data_dir()\n",
    "# mh.device = torch.device(\"cuda\" if torch.cuda.is_available() else \"cpu\")\n",
    "mh.device = \"cpu\"\n",
    "\n",
    "# Training Parameters\n",
    "mh.epochs = 100\n",
    "mh.batch_size = 16\n",
    "mh.learning_rate = 0.0005\n",
    "\n",
    "mh.sample_range_from = 0\n",
    "mh.sample_range_to = 1\n",
    "\n",
    "# LSTM Model Parameters\n",
    "mh.input_size = 1024 * 2\n",
    "mh.hidden_size = 512\n",
    "mh.output_size = 128\n",
    "\n",
    "# LSTM Training Loss Parameters\n",
    "mh.pitch_weight = 1.0\n",
    "mh.step_weight = 1.0\n",
    "mh.duration_weight = 10.0"
   ]
  },
  {
   "cell_type": "code",
   "execution_count": null,
   "metadata": {},
   "outputs": [],
   "source": [
    "# mh.load_train_data()\n",
    "# mh.midi.load_files(\"../data/Cymatics/*.mid*\")\n",
    "mh.midi.load_files(\"../data/samples/input.mid\")"
   ]
  },
  {
   "cell_type": "code",
   "execution_count": null,
   "metadata": {},
   "outputs": [],
   "source": [
    "mh.load_train_notes(\"base\", mh.sample_range_from, mh.sample_range_to)"
   ]
  },
  {
   "cell_type": "code",
   "execution_count": null,
   "metadata": {},
   "outputs": [],
   "source": [
    "mh.create_model()"
   ]
  },
  {
   "cell_type": "code",
   "execution_count": null,
   "metadata": {},
   "outputs": [],
   "source": [
    "mh.train_model()"
   ]
  },
  {
   "cell_type": "code",
   "execution_count": null,
   "metadata": {},
   "outputs": [],
   "source": [
    "input = mh.midi.files[mh.sample_range_from]\n",
    "input_notes = mh.midi.get_notes(input)\n",
    "num_predictions = 100\n",
    "seq_length = 250\n",
    "temperature = 1\n",
    "\n",
    "generated_notes, out_pm, outfile = mh.generate_notes(input_notes, num_predictions, seq_length, temperature)\n",
    "\n",
    "mh.midi.display_midi(input)\n",
    "mh.midi.display_midi(outfile)"
   ]
  },
  {
   "cell_type": "code",
   "execution_count": null,
   "metadata": {},
   "outputs": [],
   "source": [
    "mh.midi.display_audio(out_pm)"
   ]
  }
 ],
 "metadata": {
  "kernelspec": {
   "display_name": "Python 3",
   "language": "python",
   "name": "python3"
  },
  "language_info": {
   "codemirror_mode": {
    "name": "ipython",
    "version": 3
   },
   "file_extension": ".py",
   "mimetype": "text/x-python",
   "name": "python",
   "nbconvert_exporter": "python",
   "pygments_lexer": "ipython3",
   "version": "3.10.12"
  }
 },
 "nbformat": 4,
 "nbformat_minor": 2
}
